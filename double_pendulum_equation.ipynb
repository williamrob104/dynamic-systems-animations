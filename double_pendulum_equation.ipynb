{
 "metadata": {
  "language_info": {
   "codemirror_mode": {
    "name": "ipython",
    "version": 3
   },
   "file_extension": ".py",
   "mimetype": "text/x-python",
   "name": "python",
   "nbconvert_exporter": "python",
   "pygments_lexer": "ipython3",
   "version": "3.8.7-final"
  },
  "orig_nbformat": 2,
  "kernelspec": {
   "name": "python3",
   "display_name": "Python 3.8.7 64-bit",
   "metadata": {
    "interpreter": {
     "hash": "7d1770ce7aa382b6f728be32020bfd3fd330ccb263d4529fa6274022618ef6b9"
    }
   }
  }
 },
 "nbformat": 4,
 "nbformat_minor": 2,
 "cells": [
  {
   "cell_type": "code",
   "execution_count": 1,
   "source": [
    "from sympy import *\r\n",
    "\r\n",
    "init_printing(use_latex=\"mathjax\")"
   ],
   "outputs": [],
   "metadata": {}
  },
  {
   "cell_type": "code",
   "execution_count": 2,
   "source": [
    "def diff_total(expr, diff_by, diff_map):\r\n",
    "    \"\"\"\r\n",
    "    Example:\r\n",
    "\r\n",
    "        theta, theta_dot, t = symbols(r'theta \\dot{\\theta} t')\r\n",
    "        diff_total(cos(theta) + t**2, t, {theta:theta_dot})\r\n",
    "\r\n",
    "    returns\r\n",
    "\r\n",
    "        -theta_dot*sin(theta) + 2*t\r\n",
    "    \"\"\"\r\n",
    "    result = Integer(0)\r\n",
    "    for var, var_diff in diff_map.items():\r\n",
    "        result += diff(expr, var) * var_diff\r\n",
    "    result += diff(expr, diff_by)\r\n",
    "    return result"
   ],
   "outputs": [],
   "metadata": {}
  },
  {
   "cell_type": "code",
   "execution_count": 3,
   "source": [
    "# l1 is half the length of pendulum 1, l2 is the half length of pendulum 2\r\n",
    "m1, l1, I1 = symbols(r'm_1 l_1 I_1')\r\n",
    "m2, l2, I2 = symbols(r'm_2 l_2 I_2')\r\n",
    "g = symbols(r'g')\r\n",
    "\r\n",
    "t = symbols(r't')\r\n",
    "theta1, theta1_dot, theta1_ddot = symbols(r'\\theta_1 \\dot{\\theta_1} \\ddot{\\theta_1}')\r\n",
    "theta2, theta2_dot, theta2_ddot = symbols(r'\\theta_2 \\dot{\\theta_2} \\ddot{\\theta_2}')\r\n",
    "\r\n",
    "diff_map = {\r\n",
    "    theta1: theta1_dot, theta1_dot: theta1_ddot, \r\n",
    "    theta2: theta2_dot, theta2_dot: theta2_ddot}"
   ],
   "outputs": [],
   "metadata": {}
  },
  {
   "cell_type": "code",
   "execution_count": 4,
   "source": [
    "# velocity squared of center of mass of pendulum 1 and pendulum 2\r\n",
    "v1_squared = (l1*theta1_dot)**2\r\n",
    "v2_squared = (l2*theta2_dot + 2*l1*theta1_dot*cos(theta1-theta2))**2 + (2*l1*theta1_dot*sin(theta1-theta2))**2"
   ],
   "outputs": [],
   "metadata": {}
  },
  {
   "cell_type": "code",
   "execution_count": 5,
   "source": [
    "# kinetic energy\r\n",
    "T = m1*v1_squared/2 + I1*theta1_dot**2/2 + m2*v2_squared/2 + I2*theta2_dot**2/2\r\n",
    "\r\n",
    "display(Eq(symbols('T'), T))"
   ],
   "outputs": [
    {
     "output_type": "display_data",
     "data": {
      "text/latex": [
       "$\\displaystyle T = \\frac{I_{1} \\dot{\\theta_1}^{2}}{2} + \\frac{I_{2} \\dot{\\theta_2}^{2}}{2} + \\frac{\\dot{\\theta_1}^{2} l_{1}^{2} m_{1}}{2} + \\frac{m_{2} \\left(4 \\dot{\\theta_1}^{2} l_{1}^{2} \\sin^{2}{\\left(\\theta_{1} - \\theta_{2} \\right)} + \\left(2 \\dot{\\theta_1} l_{1} \\cos{\\left(\\theta_{1} - \\theta_{2} \\right)} + \\dot{\\theta_2} l_{2}\\right)^{2}\\right)}{2}$"
      ],
      "text/plain": [
       "                     2                    2                 2   2         ⎛   \n",
       "    I₁⋅\\dot{\\theta_1}    I₂⋅\\dot{\\theta_2}    \\dot{\\theta_1} ⋅l₁ ⋅m₁   m₂⋅⎝4⋅\\\n",
       "T = ────────────────── + ────────────────── + ────────────────────── + ───────\n",
       "            2                    2                      2                     \n",
       "\n",
       "             2   2    2                                                       \n",
       "dot{\\theta_1} ⋅l₁ ⋅sin (\\theta₁ - \\theta₂) + (2⋅\\dot{\\theta_1}⋅l₁⋅cos(\\theta₁ \n",
       "──────────────────────────────────────────────────────────────────────────────\n",
       "                                                   2                          \n",
       "\n",
       "                               2⎞\n",
       "- \\theta₂) + \\dot{\\theta_2}⋅l₂) ⎠\n",
       "─────────────────────────────────\n",
       "                                 "
      ]
     },
     "metadata": {}
    }
   ],
   "metadata": {}
  },
  {
   "cell_type": "code",
   "execution_count": 6,
   "source": [
    "# potential energy\r\n",
    "V = -m1*g*l1*cos(theta1) - m2*g*(2*l1*cos(theta1) + l2*cos(theta2))\r\n",
    "\r\n",
    "display(Eq(symbols('V'), V))"
   ],
   "outputs": [
    {
     "output_type": "display_data",
     "data": {
      "text/latex": [
       "$\\displaystyle V = - g l_{1} m_{1} \\cos{\\left(\\theta_{1} \\right)} - g m_{2} \\left(2 l_{1} \\cos{\\left(\\theta_{1} \\right)} + l_{2} \\cos{\\left(\\theta_{2} \\right)}\\right)$"
      ],
      "text/plain": [
       "V = -g⋅l₁⋅m₁⋅cos(\\theta₁) - g⋅m₂⋅(2⋅l₁⋅cos(\\theta₁) + l₂⋅cos(\\theta₂))"
      ]
     },
     "metadata": {}
    }
   ],
   "metadata": {}
  },
  {
   "cell_type": "code",
   "execution_count": 7,
   "source": [
    "# Lagrange function \r\n",
    "L = T - V"
   ],
   "outputs": [],
   "metadata": {}
  },
  {
   "cell_type": "code",
   "execution_count": 8,
   "source": [
    "eq1 = diff_total(diff(L, theta1_dot), t, diff_map) - diff(L, theta1)\r\n",
    "eq1 = Eq(simplify(eq1), 0)\r\n",
    "\r\n",
    "display(eq1)"
   ],
   "outputs": [
    {
     "output_type": "display_data",
     "data": {
      "text/latex": [
       "$\\displaystyle \\ddot{\\theta_1} \\left(I_{1} + l_{1}^{2} m_{1} + 4 l_{1}^{2} m_{2}\\right) + 2 \\ddot{\\theta_2} l_{1} l_{2} m_{2} \\cos{\\left(\\theta_{1} - \\theta_{2} \\right)} + 2 \\dot{\\theta_2}^{2} l_{1} l_{2} m_{2} \\sin{\\left(\\theta_{1} - \\theta_{2} \\right)} + g l_{1} m_{1} \\sin{\\left(\\theta_{1} \\right)} + 2 g l_{1} m_{2} \\sin{\\left(\\theta_{1} \\right)} = 0$"
      ],
      "text/plain": [
       "                ⎛       2          2   ⎞                                      \n",
       "\\ddot{\\theta_1}⋅⎝I₁ + l₁ ⋅m₁ + 4⋅l₁ ⋅m₂⎠ + 2⋅\\ddot{\\theta_2}⋅l₁⋅l₂⋅m₂⋅cos(\\the\n",
       "\n",
       "                                 2                                            \n",
       "ta₁ - \\theta₂) + 2⋅\\dot{\\theta_2} ⋅l₁⋅l₂⋅m₂⋅sin(\\theta₁ - \\theta₂) + g⋅l₁⋅m₁⋅s\n",
       "\n",
       "                                        \n",
       "in(\\theta₁) + 2⋅g⋅l₁⋅m₂⋅sin(\\theta₁) = 0"
      ]
     },
     "metadata": {}
    }
   ],
   "metadata": {}
  },
  {
   "cell_type": "code",
   "execution_count": 9,
   "source": [
    "eq2 = diff_total(diff(L, theta2_dot), t, diff_map) - diff(L, theta2)\r\n",
    "eq2 = Eq(simplify(eq2), 0)\r\n",
    "\r\n",
    "display(eq2)"
   ],
   "outputs": [
    {
     "output_type": "display_data",
     "data": {
      "text/latex": [
       "$\\displaystyle 2 \\ddot{\\theta_1} l_{1} l_{2} m_{2} \\cos{\\left(\\theta_{1} - \\theta_{2} \\right)} + \\ddot{\\theta_2} \\left(I_{2} + l_{2}^{2} m_{2}\\right) - 2 \\dot{\\theta_1}^{2} l_{1} l_{2} m_{2} \\sin{\\left(\\theta_{1} - \\theta_{2} \\right)} + g l_{2} m_{2} \\sin{\\left(\\theta_{2} \\right)} = 0$"
      ],
      "text/plain": [
       "                                                                    ⎛       2 \n",
       "2⋅\\ddot{\\theta_1}⋅l₁⋅l₂⋅m₂⋅cos(\\theta₁ - \\theta₂) + \\ddot{\\theta_2}⋅⎝I₂ + l₂ ⋅\n",
       "\n",
       "  ⎞                   2                                                       \n",
       "m₂⎠ - 2⋅\\dot{\\theta_1} ⋅l₁⋅l₂⋅m₂⋅sin(\\theta₁ - \\theta₂) + g⋅l₂⋅m₂⋅sin(\\theta₂)\n",
       "\n",
       "    \n",
       " = 0"
      ]
     },
     "metadata": {}
    }
   ],
   "metadata": {}
  }
 ]
}