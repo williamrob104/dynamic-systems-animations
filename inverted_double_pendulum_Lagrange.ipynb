{
 "metadata": {
  "language_info": {
   "codemirror_mode": {
    "name": "ipython",
    "version": 3
   },
   "file_extension": ".py",
   "mimetype": "text/x-python",
   "name": "python",
   "nbconvert_exporter": "python",
   "pygments_lexer": "ipython3",
   "version": "3.8.7"
  },
  "orig_nbformat": 2,
  "kernelspec": {
   "name": "python3",
   "display_name": "Python 3.8.7 64-bit"
  },
  "interpreter": {
   "hash": "7d1770ce7aa382b6f728be32020bfd3fd330ccb263d4529fa6274022618ef6b9"
  }
 },
 "nbformat": 4,
 "nbformat_minor": 2,
 "cells": [
  {
   "cell_type": "code",
   "execution_count": 1,
   "source": [
    "from sympy import *\r\n",
    "\r\n",
    "init_printing(use_latex=\"mathjax\")"
   ],
   "outputs": [],
   "metadata": {}
  },
  {
   "cell_type": "code",
   "execution_count": 2,
   "source": [
    "def diff_total(expr, diff_by, diff_map):\r\n",
    "    \"\"\"\r\n",
    "    Example:\r\n",
    "\r\n",
    "        theta, theta_dot, t = symbols(r'theta \\dot{\\theta} t')\r\n",
    "        diff_total(cos(theta) + t**2, t, {theta:theta_dot})\r\n",
    "\r\n",
    "    returns\r\n",
    "\r\n",
    "        -theta_dot*sin(theta) + 2*t\r\n",
    "    \"\"\"\r\n",
    "    result = Integer(0)\r\n",
    "    for var, var_diff in diff_map.items():\r\n",
    "        result += diff(expr, var) * var_diff\r\n",
    "    result += diff(expr, diff_by)\r\n",
    "    return result"
   ],
   "outputs": [],
   "metadata": {}
  },
  {
   "cell_type": "code",
   "execution_count": 3,
   "source": [
    "M = symbols(r'M', real=True, positive=True)\r\n",
    "m1, l1, I1 = symbols(r'm_1 l_1 I_1', real=True, positive=True)\r\n",
    "m2, l2, I2 = symbols(r'm_2 l_2 I_2', real=True, positive=True)\r\n",
    "g = symbols(r'g')\r\n",
    "\r\n",
    "t = symbols(r't')\r\n",
    "x, x_dot, x_ddot = symbols(r'x \\dot{x} \\ddot{x}', real=True)\r\n",
    "theta1, theta1_dot, theta1_ddot = symbols(r'\\theta_1 \\dot{\\theta_1} \\ddot{\\theta_1}', real=True)\r\n",
    "theta2, theta2_dot, theta2_ddot = symbols(r'\\theta_2 \\dot{\\theta_2} \\ddot{\\theta_2}', real=True)\r\n",
    "\r\n",
    "F = symbols(r'F', real=True)\r\n",
    "\r\n",
    "diff_map = {\r\n",
    "         x:      x_dot,      x_dot:      x_ddot,\r\n",
    "    theta1: theta1_dot, theta1_dot: theta1_ddot, \r\n",
    "    theta2: theta2_dot, theta2_dot: theta2_ddot}"
   ],
   "outputs": [],
   "metadata": {}
  },
  {
   "cell_type": "code",
   "execution_count": 4,
   "source": [
    "v_A = Matrix([x_dot, 0])\r\n",
    "\r\n",
    "v_B = v_A + l1/2*theta1_dot * Matrix([cos(theta1), -sin(theta1)])\r\n",
    "\r\n",
    "v_C = v_A + l1*theta1_dot * Matrix([cos(theta1), -sin(theta1)])\r\n",
    "v_D = v_C + l2/2*theta2_dot * Matrix([cos(theta2), -sin(theta2)])\r\n",
    "\r\n",
    "\r\n",
    "print('v_A')\r\n",
    "display(v_A)\r\n",
    "print('v_B')\r\n",
    "display(v_B)\r\n",
    "print('v_D')\r\n",
    "display(v_D)"
   ],
   "outputs": [
    {
     "output_type": "stream",
     "name": "stdout",
     "text": [
      "v_A\n"
     ]
    },
    {
     "output_type": "display_data",
     "data": {
      "text/latex": [
       "$\\displaystyle \\left[\\begin{matrix}\\dot{x}\\\\0\\end{matrix}\\right]$"
      ],
      "text/plain": [
       "⎡\\dot{x}⎤\n",
       "⎢       ⎥\n",
       "⎣   0   ⎦"
      ]
     },
     "metadata": {}
    },
    {
     "output_type": "stream",
     "name": "stdout",
     "text": [
      "v_B\n"
     ]
    },
    {
     "output_type": "display_data",
     "data": {
      "text/latex": [
       "$\\displaystyle \\left[\\begin{matrix}\\frac{\\dot{\\theta_1} l_{1} \\cos{\\left(\\theta_{1} \\right)}}{2} + \\dot{x}\\\\- \\frac{\\dot{\\theta_1} l_{1} \\sin{\\left(\\theta_{1} \\right)}}{2}\\end{matrix}\\right]$"
      ],
      "text/plain": [
       "⎡\\dot{\\theta_1}⋅l₁⋅cos(\\theta₁)          ⎤\n",
       "⎢────────────────────────────── + \\dot{x}⎥\n",
       "⎢              2                         ⎥\n",
       "⎢                                        ⎥\n",
       "⎢    -\\dot{\\theta_1}⋅l₁⋅sin(\\theta₁)     ⎥\n",
       "⎢    ────────────────────────────────    ⎥\n",
       "⎣                   2                    ⎦"
      ]
     },
     "metadata": {}
    },
    {
     "output_type": "stream",
     "name": "stdout",
     "text": [
      "v_D\n"
     ]
    },
    {
     "output_type": "display_data",
     "data": {
      "text/latex": [
       "$\\displaystyle \\left[\\begin{matrix}\\dot{\\theta_1} l_{1} \\cos{\\left(\\theta_{1} \\right)} + \\frac{\\dot{\\theta_2} l_{2} \\cos{\\left(\\theta_{2} \\right)}}{2} + \\dot{x}\\\\- \\dot{\\theta_1} l_{1} \\sin{\\left(\\theta_{1} \\right)} - \\frac{\\dot{\\theta_2} l_{2} \\sin{\\left(\\theta_{2} \\right)}}{2}\\end{matrix}\\right]$"
      ],
      "text/plain": [
       "⎡                                 \\dot{\\theta_2}⋅l₂⋅cos(\\theta₂)          ⎤\n",
       "⎢\\dot{\\theta_1}⋅l₁⋅cos(\\theta₁) + ────────────────────────────── + \\dot{x}⎥\n",
       "⎢                                               2                         ⎥\n",
       "⎢                                                                         ⎥\n",
       "⎢                                      \\dot{\\theta_2}⋅l₂⋅sin(\\theta₂)     ⎥\n",
       "⎢    -\\dot{\\theta_1}⋅l₁⋅sin(\\theta₁) - ──────────────────────────────     ⎥\n",
       "⎣                                                    2                    ⎦"
      ]
     },
     "metadata": {}
    }
   ],
   "metadata": {}
  },
  {
   "cell_type": "code",
   "execution_count": 5,
   "source": [
    "# kinetic energy\r\n",
    "T = M*v_A.norm()**2/2 + \\\r\n",
    "    m1*v_B.norm()**2/2 + I1*theta1_dot**2/2 + \\\r\n",
    "    m2*v_D.norm()**2/2 + I2*theta2_dot**2/2\r\n",
    "\r\n",
    "display(Eq(symbols('T'), T))"
   ],
   "outputs": [
    {
     "output_type": "display_data",
     "data": {
      "text/latex": [
       "$\\displaystyle T = \\frac{I_{1} \\dot{\\theta_1}^{2}}{2} + \\frac{I_{2} \\dot{\\theta_2}^{2}}{2} + \\frac{M \\dot{x}^{2}}{2} + \\frac{m_{1} \\left(\\frac{\\dot{\\theta_1}^{2} l_{1}^{2} \\sin^{2}{\\left(\\theta_{1} \\right)}}{4} + \\left(\\frac{\\dot{\\theta_1} l_{1} \\cos{\\left(\\theta_{1} \\right)}}{2} + \\dot{x}\\right)^{2}\\right)}{2} + \\frac{m_{2} \\left(\\left(\\dot{\\theta_1} l_{1} \\sin{\\left(\\theta_{1} \\right)} + \\frac{\\dot{\\theta_2} l_{2} \\sin{\\left(\\theta_{2} \\right)}}{2}\\right)^{2} + \\left(\\dot{\\theta_1} l_{1} \\cos{\\left(\\theta_{1} \\right)} + \\frac{\\dot{\\theta_2} l_{2} \\cos{\\left(\\theta_{2} \\right)}}{2} + \\dot{x}\\right)^{2}\\right)}{2}$"
      ],
      "text/plain": [
       "                                                              ⎛              2\n",
       "                                                              ⎜\\dot{\\theta_1} \n",
       "                     2                    2            2   m₁⋅⎜───────────────\n",
       "    I₁⋅\\dot{\\theta_1}    I₂⋅\\dot{\\theta_2}    M⋅\\dot{x}       ⎝               \n",
       "T = ────────────────── + ────────────────── + ────────── + ───────────────────\n",
       "            2                    2                2                           \n",
       "\n",
       "   2    2                                                      2⎞      ⎛      \n",
       "⋅l₁ ⋅sin (\\theta₁)   ⎛\\dot{\\theta_1}⋅l₁⋅cos(\\theta₁)          ⎞ ⎟      ⎜⎛     \n",
       "────────────────── + ⎜────────────────────────────── + \\dot{x}⎟ ⎟   m₂⋅⎜⎜\\dot{\n",
       " 4                   ⎝              2                         ⎠ ⎠      ⎝⎝     \n",
       "───────────────────────────────────────────────────────────────── + ──────────\n",
       "                      2                                                       \n",
       "\n",
       "                                                           2                  \n",
       "                            \\dot{\\theta_2}⋅l₂⋅sin(\\theta₂)⎞    ⎛              \n",
       "\\theta_1}⋅l₁⋅sin(\\theta₁) + ──────────────────────────────⎟  + ⎜\\dot{\\theta_1}\n",
       "                                          2               ⎠    ⎝              \n",
       "──────────────────────────────────────────────────────────────────────────────\n",
       "                                                                2             \n",
       "\n",
       "                                                            2⎞\n",
       "                   \\dot{\\theta_2}⋅l₂⋅cos(\\theta₂)          ⎞ ⎟\n",
       "⋅l₁⋅cos(\\theta₁) + ────────────────────────────── + \\dot{x}⎟ ⎟\n",
       "                                 2                         ⎠ ⎠\n",
       "──────────────────────────────────────────────────────────────\n",
       "                                                              "
      ]
     },
     "metadata": {}
    }
   ],
   "metadata": {}
  },
  {
   "cell_type": "code",
   "execution_count": 6,
   "source": [
    "# potential energy\r\n",
    "V = m1*g*l1/2*cos(theta1) + m2*g*(l1*cos(theta1) + l2/2*cos(theta2))\r\n",
    "\r\n",
    "display(Eq(symbols('V'), V))"
   ],
   "outputs": [
    {
     "output_type": "display_data",
     "data": {
      "text/latex": [
       "$\\displaystyle V = \\frac{g l_{1} m_{1} \\cos{\\left(\\theta_{1} \\right)}}{2} + g m_{2} \\left(l_{1} \\cos{\\left(\\theta_{1} \\right)} + \\frac{l_{2} \\cos{\\left(\\theta_{2} \\right)}}{2}\\right)$"
      ],
      "text/plain": [
       "    g⋅l₁⋅m₁⋅cos(\\theta₁)        ⎛                  l₂⋅cos(\\theta₂)⎞\n",
       "V = ──────────────────── + g⋅m₂⋅⎜l₁⋅cos(\\theta₁) + ───────────────⎟\n",
       "             2                  ⎝                         2       ⎠"
      ]
     },
     "metadata": {}
    }
   ],
   "metadata": {}
  },
  {
   "cell_type": "code",
   "execution_count": 7,
   "source": [
    "# Lagrange function \r\n",
    "L = T - V"
   ],
   "outputs": [],
   "metadata": {}
  },
  {
   "cell_type": "code",
   "execution_count": 8,
   "source": [
    "expr1 = diff_total(diff(L, x_dot), t, diff_map) - diff(L, x)\r\n",
    "expr1 = collect(simplify(expr1), [x_ddot, theta1_ddot, theta2_ddot, theta1_dot, theta2_dot, g])\r\n",
    "eq1 = Eq(expr1, F)\r\n",
    "\r\n",
    "display(eq1)"
   ],
   "outputs": [
    {
     "output_type": "display_data",
     "data": {
      "text/latex": [
       "$\\displaystyle \\frac{\\ddot{\\theta_1} l_{1} \\left(m_{1} + 2 m_{2}\\right) \\cos{\\left(\\theta_{1} \\right)}}{2} + \\frac{\\ddot{\\theta_2} l_{2} m_{2} \\cos{\\left(\\theta_{2} \\right)}}{2} + \\ddot{x} \\left(M + m_{1} + m_{2}\\right) - \\frac{\\dot{\\theta_1}^{2} l_{1} \\left(m_{1} + 2 m_{2}\\right) \\sin{\\left(\\theta_{1} \\right)}}{2} - \\frac{\\dot{\\theta_2}^{2} l_{2} m_{2} \\sin{\\left(\\theta_{2} \\right)}}{2} = F$"
      ],
      "text/plain": [
       "                                                                              \n",
       "\\ddot{\\theta_1}⋅l₁⋅(m₁ + 2⋅m₂)⋅cos(\\theta₁)   \\ddot{\\theta_2}⋅l₂⋅m₂⋅cos(\\theta\n",
       "─────────────────────────────────────────── + ────────────────────────────────\n",
       "                     2                                        2               \n",
       "\n",
       "                                            2                                 \n",
       "₂)                            \\dot{\\theta_1} ⋅l₁⋅(m₁ + 2⋅m₂)⋅sin(\\theta₁)   \\d\n",
       "── + \\ddot{x}⋅(M + m₁ + m₂) - ─────────────────────────────────────────── - ──\n",
       "                                                   2                          \n",
       "\n",
       "            2                       \n",
       "ot{\\theta_2} ⋅l₂⋅m₂⋅sin(\\theta₂)    \n",
       "──────────────────────────────── = F\n",
       "              2                     "
      ]
     },
     "metadata": {}
    }
   ],
   "metadata": {}
  },
  {
   "cell_type": "code",
   "execution_count": 9,
   "source": [
    "expr2 = diff_total(diff(L, theta1_dot), t, diff_map) - diff(L, theta1)\r\n",
    "expr2 = collect(simplify(expr2), [x_ddot, theta1_ddot, theta2_ddot, theta1_dot, theta2_dot, g])\r\n",
    "eq2 = Eq(expr2, 0)\r\n",
    "\r\n",
    "display(eq2)"
   ],
   "outputs": [
    {
     "output_type": "display_data",
     "data": {
      "text/latex": [
       "$\\displaystyle \\ddot{\\theta_1} \\left(I_{1} + \\frac{l_{1}^{2} m_{1}}{4} + l_{1}^{2} m_{2}\\right) + \\frac{\\ddot{\\theta_2} l_{1} l_{2} m_{2} \\cos{\\left(\\theta_{1} - \\theta_{2} \\right)}}{2} + \\ddot{x} \\left(\\frac{l_{1} m_{1} \\cos{\\left(\\theta_{1} \\right)}}{2} + l_{1} m_{2} \\cos{\\left(\\theta_{1} \\right)}\\right) + \\frac{\\dot{\\theta_2}^{2} l_{1} l_{2} m_{2} \\sin{\\left(\\theta_{1} - \\theta_{2} \\right)}}{2} + g \\left(- \\frac{l_{1} m_{1} \\sin{\\left(\\theta_{1} \\right)}}{2} - l_{1} m_{2} \\sin{\\left(\\theta_{1} \\right)}\\right) = 0$"
      ],
      "text/plain": [
       "                ⎛       2            ⎞                                        \n",
       "                ⎜     l₁ ⋅m₁     2   ⎟   \\ddot{\\theta_2}⋅l₁⋅l₂⋅m₂⋅cos(\\theta₁ \n",
       "\\ddot{\\theta_1}⋅⎜I₁ + ────── + l₁ ⋅m₂⎟ + ─────────────────────────────────────\n",
       "                ⎝       4            ⎠                          2             \n",
       "\n",
       "                                                                              \n",
       "- \\theta₂)            ⎛l₁⋅m₁⋅cos(\\theta₁)                     ⎞   \\dot{\\theta_\n",
       "────────── + \\ddot{x}⋅⎜────────────────── + l₁⋅m₂⋅cos(\\theta₁)⎟ + ────────────\n",
       "                      ⎝        2                              ⎠               \n",
       "\n",
       "  2                                                                           \n",
       "2} ⋅l₁⋅l₂⋅m₂⋅sin(\\theta₁ - \\theta₂)     ⎛  l₁⋅m₁⋅sin(\\theta₁)                 \n",
       "─────────────────────────────────── + g⋅⎜- ────────────────── - l₁⋅m₂⋅sin(\\the\n",
       "           2                            ⎝          2                          \n",
       "\n",
       "         \n",
       "    ⎞    \n",
       "ta₁)⎟ = 0\n",
       "    ⎠    "
      ]
     },
     "metadata": {}
    }
   ],
   "metadata": {}
  },
  {
   "cell_type": "code",
   "execution_count": 10,
   "source": [
    "expr3 = diff_total(diff(L, theta2_dot), t, diff_map) - diff(L, theta2)\r\n",
    "expr3 = collect(simplify(expr3), [x_ddot, theta1_ddot, theta2_ddot, theta1_dot, theta2_dot, g])\r\n",
    "eq3 = Eq(expr3, 0)\r\n",
    "\r\n",
    "display(eq3)"
   ],
   "outputs": [
    {
     "output_type": "display_data",
     "data": {
      "text/latex": [
       "$\\displaystyle \\frac{\\ddot{\\theta_1} l_{1} l_{2} m_{2} \\cos{\\left(\\theta_{1} - \\theta_{2} \\right)}}{2} + \\ddot{\\theta_2} \\left(I_{2} + \\frac{l_{2}^{2} m_{2}}{4}\\right) + \\frac{\\ddot{x} l_{2} m_{2} \\cos{\\left(\\theta_{2} \\right)}}{2} - \\frac{\\dot{\\theta_1}^{2} l_{1} l_{2} m_{2} \\sin{\\left(\\theta_{1} - \\theta_{2} \\right)}}{2} - \\frac{g l_{2} m_{2} \\sin{\\left(\\theta_{2} \\right)}}{2} = 0$"
      ],
      "text/plain": [
       "                                                                  ⎛       2   \n",
       "\\ddot{\\theta_1}⋅l₁⋅l₂⋅m₂⋅cos(\\theta₁ - \\theta₂)                   ⎜     l₂ ⋅m₂\n",
       "─────────────────────────────────────────────── + \\ddot{\\theta_2}⋅⎜I₂ + ──────\n",
       "                       2                                          ⎝       4   \n",
       "\n",
       "⎞                                               2                             \n",
       "⎟   \\ddot{x}⋅l₂⋅m₂⋅cos(\\theta₂)   \\dot{\\theta_1} ⋅l₁⋅l₂⋅m₂⋅sin(\\theta₁ - \\thet\n",
       "⎟ + ─────────────────────────── - ────────────────────────────────────────────\n",
       "⎠                2                                       2                    \n",
       "\n",
       "                              \n",
       "a₂)   g⋅l₂⋅m₂⋅sin(\\theta₂)    \n",
       "─── - ──────────────────── = 0\n",
       "               2              "
      ]
     },
     "metadata": {}
    }
   ],
   "metadata": {}
  }
 ]
}